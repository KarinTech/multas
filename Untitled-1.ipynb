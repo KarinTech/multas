{
 "cells": [
  {
   "cell_type": "code",
   "execution_count": null,
   "metadata": {},
   "outputs": [],
   "source": [
    "import pandas as pandas\n",
    "import numpy as numpy#acessar componentes do sistema opeacional\n",
    "import os\n",
    "from pathlib import pathlib"
   ]
  },
  {
   "cell_type": "code",
   "execution_count": null,
   "metadata": {},
   "outputs": [],
   "source": [
    "#local directorio\n",
    "Local_diretorio='C:\\Users\\Karin\\Desktop\\Karin\\DETRAN'\n",
    "Diretorio_Path= Path(Local_Diretorio)\n",
    "type(Diretorio_Path)\n"
   ]
  },
  {
   "attachments": {},
   "cell_type": "markdown",
   "metadata": {},
   "source": []
  }
 ],
 "metadata": {
  "language_info": {
   "name": "python"
  },
  "orig_nbformat": 4
 },
 "nbformat": 4,
 "nbformat_minor": 2
}
